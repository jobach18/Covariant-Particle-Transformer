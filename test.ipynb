{
 "cells": [
  {
   "cell_type": "code",
   "execution_count": 11,
   "metadata": {},
   "outputs": [
    {
     "ename": "ModuleNotFoundError",
     "evalue": "No module named 'awkward'",
     "output_type": "error",
     "traceback": [
      "\u001b[0;31m---------------------------------------------------------------------------\u001b[0m",
      "\u001b[0;31mModuleNotFoundError\u001b[0m                       Traceback (most recent call last)",
      "Cell \u001b[0;32mIn[11], line 1\u001b[0m\n\u001b[0;32m----> 1\u001b[0m \u001b[38;5;28;01mimport\u001b[39;00m \u001b[38;5;21;01mawkward\u001b[39;00m \u001b[38;5;28;01mas\u001b[39;00m \u001b[38;5;21;01mak\u001b[39;00m\n\u001b[1;32m      2\u001b[0m \u001b[38;5;28;01mimport\u001b[39;00m \u001b[38;5;21;01mh5py\u001b[39;00m\n",
      "\u001b[0;31mModuleNotFoundError\u001b[0m: No module named 'awkward'"
     ]
    }
   ],
   "source": [
    "import awkward as ak\n",
    "import h5py"
   ]
  },
  {
   "cell_type": "code",
   "execution_count": 3,
   "metadata": {},
   "outputs": [
    {
     "ename": "AttributeError",
     "evalue": "module 'awkward' has no attribute 'from_buffers'",
     "output_type": "error",
     "traceback": [
      "\u001b[0;31m---------------------------------------------------------------------------\u001b[0m",
      "\u001b[0;31mAttributeError\u001b[0m                            Traceback (most recent call last)",
      "Cell \u001b[0;32mIn[3], line 14\u001b[0m\n\u001b[1;32m     11\u001b[0m     container \u001b[38;5;241m=\u001b[39m {key: f[key][()] \u001b[38;5;28;01mfor\u001b[39;00m key \u001b[38;5;129;01min\u001b[39;00m f\u001b[38;5;241m.\u001b[39mkeys()}\n\u001b[1;32m     13\u001b[0m     \u001b[38;5;66;03m# Reconstruct the Awkward Array from buffers\u001b[39;00m\n\u001b[0;32m---> 14\u001b[0m     df \u001b[38;5;241m=\u001b[39m \u001b[43mak\u001b[49m\u001b[38;5;241;43m.\u001b[39;49m\u001b[43mfrom_buffers\u001b[49m(form, length, container)\n\u001b[1;32m     15\u001b[0m \u001b[38;5;28mprint\u001b[39m(ak\u001b[38;5;241m.\u001b[39m__version__)\n",
      "\u001b[0;31mAttributeError\u001b[0m: module 'awkward' has no attribute 'from_buffers'"
     ]
    }
   ],
   "source": [
    "# load the data from the skimmed file\n",
    "\n",
    "file='skimmed_ttbarDM.h5'\n",
    "\n",
    "with h5py.File(file, 'r') as f:\n",
    "    # Load the form and length metadata\n",
    "    form = f.attrs['form']\n",
    "    length = f.attrs['length']\n",
    "    \n",
    "    # Load the buffers (numpy arrays) from the HDF5 file\n",
    "    container = {key: f[key][()] for key in f.keys()}\n",
    "    \n",
    "    # Reconstruct the Awkward Array from buffers\n",
    "    df = ak.from_buffers(form, length, container)\n",
    "print(ak.__version__)"
   ]
  },
  {
   "cell_type": "code",
   "execution_count": 1,
   "metadata": {},
   "outputs": [
    {
     "name": "stdout",
     "output_type": "stream",
     "text": [
      "using device: cpu\n"
     ]
    },
    {
     "name": "stderr",
     "output_type": "stream",
     "text": [
      "\n",
      "A module that was compiled using NumPy 1.x cannot be run in\n",
      "NumPy 2.0.1 as it may crash. To support both 1.x and 2.x\n",
      "versions of NumPy, modules must be compiled with NumPy 2.0.\n",
      "Some module may need to rebuild instead e.g. with 'pybind11>=2.12'.\n",
      "\n",
      "If you are a user of the module, the easiest solution will be to\n",
      "downgrade to 'numpy<2' or try to upgrade the affected module.\n",
      "We expect that some modules will need time to support NumPy 2.\n",
      "\n",
      "Traceback (most recent call last):  File \"/home/bachjoer/anaconda3/envs/cpt/lib/python3.9/runpy.py\", line 197, in _run_module_as_main\n",
      "    return _run_code(code, main_globals, None,\n",
      "  File \"/home/bachjoer/anaconda3/envs/cpt/lib/python3.9/runpy.py\", line 87, in _run_code\n",
      "    exec(code, run_globals)\n",
      "  File \"/home/bachjoer/anaconda3/envs/cpt/lib/python3.9/site-packages/ipykernel_launcher.py\", line 17, in <module>\n",
      "    app.launch_new_instance()\n",
      "  File \"/home/bachjoer/anaconda3/envs/cpt/lib/python3.9/site-packages/traitlets/config/application.py\", line 1075, in launch_instance\n",
      "    app.start()\n",
      "  File \"/home/bachjoer/anaconda3/envs/cpt/lib/python3.9/site-packages/ipykernel/kernelapp.py\", line 701, in start\n",
      "    self.io_loop.start()\n",
      "  File \"/home/bachjoer/anaconda3/envs/cpt/lib/python3.9/site-packages/tornado/platform/asyncio.py\", line 205, in start\n",
      "    self.asyncio_loop.run_forever()\n",
      "  File \"/home/bachjoer/anaconda3/envs/cpt/lib/python3.9/asyncio/base_events.py\", line 601, in run_forever\n",
      "    self._run_once()\n",
      "  File \"/home/bachjoer/anaconda3/envs/cpt/lib/python3.9/asyncio/base_events.py\", line 1905, in _run_once\n",
      "    handle._run()\n",
      "  File \"/home/bachjoer/anaconda3/envs/cpt/lib/python3.9/asyncio/events.py\", line 80, in _run\n",
      "    self._context.run(self._callback, *self._args)\n",
      "  File \"/home/bachjoer/anaconda3/envs/cpt/lib/python3.9/site-packages/ipykernel/kernelbase.py\", line 534, in dispatch_queue\n",
      "    await self.process_one()\n",
      "  File \"/home/bachjoer/anaconda3/envs/cpt/lib/python3.9/site-packages/ipykernel/kernelbase.py\", line 523, in process_one\n",
      "    await dispatch(*args)\n",
      "  File \"/home/bachjoer/anaconda3/envs/cpt/lib/python3.9/site-packages/ipykernel/kernelbase.py\", line 429, in dispatch_shell\n",
      "    await result\n",
      "  File \"/home/bachjoer/anaconda3/envs/cpt/lib/python3.9/site-packages/ipykernel/kernelbase.py\", line 767, in execute_request\n",
      "    reply_content = await reply_content\n",
      "  File \"/home/bachjoer/anaconda3/envs/cpt/lib/python3.9/site-packages/ipykernel/ipkernel.py\", line 429, in do_execute\n",
      "    res = shell.run_cell(\n",
      "  File \"/home/bachjoer/anaconda3/envs/cpt/lib/python3.9/site-packages/ipykernel/zmqshell.py\", line 549, in run_cell\n",
      "    return super().run_cell(*args, **kwargs)\n",
      "  File \"/home/bachjoer/anaconda3/envs/cpt/lib/python3.9/site-packages/IPython/core/interactiveshell.py\", line 3024, in run_cell\n",
      "    result = self._run_cell(\n",
      "  File \"/home/bachjoer/anaconda3/envs/cpt/lib/python3.9/site-packages/IPython/core/interactiveshell.py\", line 3079, in _run_cell\n",
      "    result = runner(coro)\n",
      "  File \"/home/bachjoer/anaconda3/envs/cpt/lib/python3.9/site-packages/IPython/core/async_helpers.py\", line 129, in _pseudo_sync_runner\n",
      "    coro.send(None)\n",
      "  File \"/home/bachjoer/anaconda3/envs/cpt/lib/python3.9/site-packages/IPython/core/interactiveshell.py\", line 3284, in run_cell_async\n",
      "    has_raised = await self.run_ast_nodes(code_ast.body, cell_name,\n",
      "  File \"/home/bachjoer/anaconda3/envs/cpt/lib/python3.9/site-packages/IPython/core/interactiveshell.py\", line 3466, in run_ast_nodes\n",
      "    if await self.run_code(code, result, async_=asy):\n",
      "  File \"/home/bachjoer/anaconda3/envs/cpt/lib/python3.9/site-packages/IPython/core/interactiveshell.py\", line 3526, in run_code\n",
      "    exec(code_obj, self.user_global_ns, self.user_ns)\n",
      "  File \"/tmp/ipykernel_3118427/1427698032.py\", line 24, in <module>\n",
      "    device = torch.device('cpu')\n",
      "/tmp/ipykernel_3118427/1427698032.py:24: UserWarning: Failed to initialize NumPy: _ARRAY_API not found (Triggered internally at ../torch/csrc/utils/tensor_numpy.cpp:84.)\n",
      "  device = torch.device('cpu')\n"
     ]
    },
    {
     "data": {
      "text/plain": [
       "{'figure.facecolor': 'white',\n",
       " 'axes.labelcolor': '.15',\n",
       " 'xtick.direction': 'out',\n",
       " 'ytick.direction': 'out',\n",
       " 'xtick.color': '.15',\n",
       " 'ytick.color': '.15',\n",
       " 'axes.axisbelow': True,\n",
       " 'grid.linestyle': '-',\n",
       " 'text.color': '.15',\n",
       " 'font.family': ['sans-serif'],\n",
       " 'font.sans-serif': ['Arial',\n",
       "  'DejaVu Sans',\n",
       "  'Liberation Sans',\n",
       "  'Bitstream Vera Sans',\n",
       "  'sans-serif'],\n",
       " 'lines.solid_capstyle': 'round',\n",
       " 'patch.edgecolor': 'w',\n",
       " 'patch.force_edgecolor': True,\n",
       " 'image.cmap': 'rocket',\n",
       " 'xtick.top': False,\n",
       " 'ytick.right': False,\n",
       " 'axes.grid': False,\n",
       " 'axes.facecolor': 'white',\n",
       " 'axes.edgecolor': '.15',\n",
       " 'grid.color': '.8',\n",
       " 'axes.spines.left': True,\n",
       " 'axes.spines.bottom': True,\n",
       " 'axes.spines.right': True,\n",
       " 'axes.spines.top': True,\n",
       " 'xtick.bottom': False,\n",
       " 'ytick.left': False}"
      ]
     },
     "execution_count": 1,
     "metadata": {},
     "output_type": "execute_result"
    }
   ],
   "source": [
    "import os\n",
    "os.environ['CUDA_VISIBLE_DEVICES'] = '0'\n",
    "import numpy as np\n",
    "import os\n",
    "import matplotlib.pyplot as plt\n",
    "import torch\n",
    "from pathlib import Path as Path\n",
    "import cpt_columnar\n",
    "from functools import partial\n",
    "from tqdm import tqdm\n",
    "import wandb\n",
    "tqdm = partial(tqdm, position=0, leave=True)\n",
    "from cpt_columnar import ColumnarCovariantTopFormer\n",
    "import matplotlib.pylab as pylab\n",
    "%matplotlib inline\n",
    "%load_ext autoreload\n",
    "%autoreload 2\n",
    "\n",
    "USE_GPU = True\n",
    "dtype = torch.float32 # we will be using float\n",
    "if USE_GPU and torch.cuda.is_available():\n",
    "    device = torch.device('cuda')\n",
    "else:\n",
    "    device = torch.device('cpu')\n",
    "print('using device:', device)\n",
    "\n",
    "from seaborn import heatmap\n",
    "import seaborn as sns\n",
    "sns.set_style(\"white\")\n",
    "sns.axes_style(\"white\")"
   ]
  },
  {
   "cell_type": "code",
   "execution_count": 2,
   "metadata": {},
   "outputs": [
    {
     "name": "stderr",
     "output_type": "stream",
     "text": [
      "Using Lamb optimizer with lr=0.0001\n",
      "Initializing a new model from scratch\n",
      "Model has 9.9M parameters\n"
     ]
    }
   ],
   "source": [
    "max_num_output = 2 # assert that there are at most ${max_num_output} tops\n",
    "base_dir = './trained'\n",
    "arch = 'ColumnarCovariantTopFormer'\n",
    "model_params = {\n",
    "    'in_dim': 9,\n",
    "    'out_dim': 4,\n",
    "    'max_num_output': max_num_output,\n",
    "    'hidden_dim': 256,\n",
    "    'num_convs': (6, 6),\n",
    "    'heads': 4,\n",
    "    'mass': 173,\n",
    "    'match_scale_factor': torch.FloatTensor([0, 1, 1, 0]), # used for matching dR = (dy, dphi)    \n",
    "    'p_norm': 2, # used in matching and loss\n",
    "    'beta': 0.8, # loss weight for predicting number of tops\n",
    "    'dropout': 0.,\n",
    "    'schedule_lr': False,\n",
    "    'use_gpu': USE_GPU,\n",
    "    'uniform_attention': False,\n",
    "}\n",
    "tag = 'TEST' # CHANGE THIS\n",
    "output_dir = f\"{arch}_{model_params['num_convs']}_{model_params['hidden_dim']}_{tag}\"\n",
    "output_dir = os.path.join(base_dir, output_dir)\n",
    "model_params['output_dir'] = output_dir\n",
    "if not os.path.exists(output_dir):\n",
    "    os.makedirs(output_dir)\n",
    "\n",
    "model = eval(arch)(**model_params).to(device)"
   ]
  },
  {
   "cell_type": "code",
   "execution_count": 14,
   "metadata": {},
   "outputs": [
    {
     "name": "stdout",
     "output_type": "stream",
     "text": [
      "tensor([[ 0.8705, -0.3191, -1.2725,  ...,  0.7527, -0.1338,  0.8917],\n",
      "        [-0.8603, -0.2934, -0.0837,  ..., -0.0994, -0.6235,  1.3766],\n",
      "        [-0.8109,  0.4782, -0.7009,  ..., -1.5940, -1.2899, -0.5408],\n",
      "        ...,\n",
      "        [ 0.5878,  2.0120,  0.6503,  ...,  1.0011, -0.1303, -1.8872],\n",
      "        [ 0.9711, -0.0268,  0.9017,  ...,  0.3363,  0.7519, -0.1950],\n",
      "        [-1.4853,  0.8614,  0.3373,  ..., -0.8464,  0.5913,  0.1306]])\n"
     ]
    }
   ],
   "source": [
    "\n",
    "from torch.utils.data import Dataset, DataLoader\n",
    "\n",
    "class RandomFloatDataset(Dataset):\n",
    "    def __init__(self, num_samples, num_features=9):\n",
    "        self.num_samples = num_samples\n",
    "        self.num_features = num_features\n",
    "\n",
    "    def __len__(self):\n",
    "        return self.num_samples\n",
    "\n",
    "    def __getitem__(self, idx):\n",
    "        # Return a random float tensor of size (num_features,)\n",
    "        return torch.randn(self.num_features)\n",
    "\n",
    "# Number of samples in the dataset\n",
    "num_samples = 1000\n",
    "\n",
    "# Create the dataset\n",
    "dataset = RandomFloatDataset(num_samples)\n",
    "\n",
    "# Create the DataLoader\n",
    "batch_size = 256\n",
    "dataloader = DataLoader(dataset, batch_size=batch_size, shuffle=True, drop_last=True)\n",
    "\n",
    "# Example of iterating over the DataLoader\n",
    "for batch in dataloader:\n",
    "    print(batch)  # Each batch is a tensor of size (batch_size, num_features)\n",
    "\n",
    "    break  # Remove this break to see more batches\n"
   ]
  },
  {
   "cell_type": "code",
   "execution_count": 15,
   "metadata": {},
   "outputs": [
    {
     "name": "stdout",
     "output_type": "stream",
     "text": [
      "torch.Size([1, 256, 512])\n",
      "torch.Size([1, 256, 512])\n",
      "psource is torch.Size([256, 3])\n",
      "torch.Size([256])\n",
      "(tensor([[[ 2.0364e+01, -2.8822e-01, -9.9933e-01,  3.6617e-02,  1.6764e+02],\n",
      "         [ 2.0364e+01, -2.8822e-01, -9.9933e-01,  3.6617e-02,  1.6764e+02]],\n",
      "\n",
      "        [[-3.0296e+00, -1.2431e+00,  1.2160e-01,  9.9258e-01,  1.7450e+02],\n",
      "         [-3.0296e+00, -1.2431e+00,  1.2160e-01,  9.9258e-01,  1.7450e+02]],\n",
      "\n",
      "        [[-1.7079e+01, -4.4250e-01, -9.8026e-01,  1.9772e-01,  1.7027e+02],\n",
      "         [-1.7079e+01, -4.4250e-01, -9.8026e-01,  1.9772e-01,  1.7027e+02]],\n",
      "\n",
      "        ...,\n",
      "\n",
      "        [[ 4.8523e+01, -9.6860e-01,  9.0492e-01, -4.2558e-01,  1.7093e+02],\n",
      "         [ 4.8523e+01, -9.6860e-01,  9.0492e-01, -4.2558e-01,  1.7093e+02]],\n",
      "\n",
      "        [[ 4.2557e+01, -2.3698e+00, -7.3611e-01, -6.7686e-01,  1.7308e+02],\n",
      "         [ 4.2557e+01, -2.3698e+00, -7.3611e-01, -6.7686e-01,  1.7308e+02]],\n",
      "\n",
      "        [[-2.8746e+01,  1.6250e-04, -6.8221e-01,  7.3115e-01,  1.7068e+02],\n",
      "         [-2.8746e+01,  1.6250e-04, -6.8221e-01,  7.3115e-01,  1.7068e+02]]],\n",
      "       grad_fn=<CatBackward0>), tensor([-0.0196,  0.2978], grad_fn=<AddBackward0>))\n",
      "torch.Size([1, 256, 512])\n",
      "torch.Size([1, 256, 512])\n",
      "psource is torch.Size([256, 3])\n",
      "torch.Size([256])\n"
     ]
    },
    {
     "name": "stderr",
     "output_type": "stream",
     "text": [
      "/home/bachjoer/workspace/phd/ml-workspace/Covariant-Particle-Transformer/cpt_columnar.py:555: UserWarning: Implicit dimension choice for softmax has been deprecated. Change the call to include dim=X as an argument.\n",
      "  a = F.softmax(e) # attend over input\n"
     ]
    },
    {
     "name": "stdout",
     "output_type": "stream",
     "text": [
      "(tensor([[[-2.9120e+00, -5.6389e-01, -9.9127e-01, -1.3185e-01,  1.7022e+02],\n",
      "         [-2.9120e+00, -5.6389e-01, -9.9127e-01, -1.3185e-01,  1.7022e+02]],\n",
      "\n",
      "        [[-8.6938e+00,  1.2162e-01,  8.3639e-01, -5.4813e-01,  1.7172e+02],\n",
      "         [-8.6938e+00,  1.2162e-01,  8.3639e-01, -5.4813e-01,  1.7172e+02]],\n",
      "\n",
      "        [[ 8.1430e+01, -4.7247e-01, -9.9970e-01, -2.4459e-02,  1.7136e+02],\n",
      "         [ 8.1430e+01, -4.7247e-01, -9.9970e-01, -2.4459e-02,  1.7136e+02]],\n",
      "\n",
      "        ...,\n",
      "\n",
      "        [[-3.6755e+01, -1.2841e+00, -9.6497e-01,  2.6236e-01,  1.7426e+02],\n",
      "         [-3.6755e+01, -1.2841e+00, -9.6497e-01,  2.6236e-01,  1.7426e+02]],\n",
      "\n",
      "        [[ 4.0305e+01, -7.7625e-01,  9.4500e-01, -3.2708e-01,  1.7421e+02],\n",
      "         [ 4.0305e+01, -7.7625e-01,  9.4500e-01, -3.2708e-01,  1.7421e+02]],\n",
      "\n",
      "        [[ 1.9392e+01, -1.3580e+00, -9.8487e-01,  1.7329e-01,  1.7385e+02],\n",
      "         [ 1.9392e+01, -1.3580e+00, -9.8487e-01,  1.7329e-01,  1.7385e+02]]],\n",
      "       grad_fn=<CatBackward0>), tensor([-0.1789,  0.5978], grad_fn=<AddBackward0>))\n",
      "torch.Size([1, 256, 512])\n",
      "torch.Size([1, 256, 512])\n",
      "psource is torch.Size([256, 3])\n",
      "torch.Size([256])\n",
      "(tensor([[[ 1.4432e+01,  1.4152e-01, -5.5743e-01,  8.3022e-01,  1.7393e+02],\n",
      "         [ 1.4432e+01,  1.4152e-01, -5.5743e-01,  8.3022e-01,  1.7393e+02]],\n",
      "\n",
      "        [[ 1.3782e+01, -6.3258e-01, -8.0296e-01,  5.9603e-01,  1.7339e+02],\n",
      "         [ 1.3782e+01, -6.3258e-01, -8.0296e-01,  5.9603e-01,  1.7339e+02]],\n",
      "\n",
      "        [[ 1.6731e+01, -1.6305e+00, -9.9596e-01, -8.9742e-02,  1.7298e+02],\n",
      "         [ 1.6731e+01, -1.6305e+00, -9.9596e-01, -8.9742e-02,  1.7298e+02]],\n",
      "\n",
      "        ...,\n",
      "\n",
      "        [[ 1.9451e+01, -8.5391e-01, -9.9710e-01,  7.6062e-02,  1.7023e+02],\n",
      "         [ 1.9451e+01, -8.5391e-01, -9.9710e-01,  7.6062e-02,  1.7023e+02]],\n",
      "\n",
      "        [[ 4.8795e+01, -1.0411e+00, -6.6670e-01,  7.4532e-01,  1.7199e+02],\n",
      "         [ 4.8795e+01, -1.0411e+00, -6.6670e-01,  7.4532e-01,  1.7199e+02]],\n",
      "\n",
      "        [[-1.4787e+01, -1.2016e+00, -3.3666e-02, -9.9943e-01,  1.7721e+02],\n",
      "         [-1.4787e+01, -1.2016e+00, -3.3666e-02, -9.9943e-01,  1.7721e+02]]],\n",
      "       grad_fn=<CatBackward0>), tensor([ 0.1439, -0.1145], grad_fn=<AddBackward0>))\n"
     ]
    }
   ],
   "source": [
    "for batch in dataloader:\n",
    "    out = model(batch) \n",
    "    print(out)\n",
    "  "
   ]
  },
  {
   "cell_type": "code",
   "execution_count": null,
   "metadata": {},
   "outputs": [],
   "source": []
  }
 ],
 "metadata": {
  "kernelspec": {
   "display_name": "cpt",
   "language": "python",
   "name": "cpt"
  },
  "language_info": {
   "codemirror_mode": {
    "name": "ipython",
    "version": 3
   },
   "file_extension": ".py",
   "mimetype": "text/x-python",
   "name": "python",
   "nbconvert_exporter": "python",
   "pygments_lexer": "ipython3",
   "version": "3.9.19"
  }
 },
 "nbformat": 4,
 "nbformat_minor": 2
}
